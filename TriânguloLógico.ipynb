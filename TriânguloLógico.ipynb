{
  "nbformat": 4,
  "nbformat_minor": 0,
  "metadata": {
    "colab": {
      "provenance": [],
      "authorship_tag": "ABX9TyMYkFrS67R/+1FcsNZ6cUD8",
      "include_colab_link": true
    },
    "kernelspec": {
      "name": "python3",
      "display_name": "Python 3"
    },
    "language_info": {
      "name": "python"
    }
  },
  "cells": [
    {
      "cell_type": "markdown",
      "metadata": {
        "id": "view-in-github",
        "colab_type": "text"
      },
      "source": [
        "<a href=\"https://colab.research.google.com/github/Felipejbm/Aulas_PA/blob/main/Tri%C3%A2nguloL%C3%B3gico.ipynb\" target=\"_parent\"><img src=\"https://colab.research.google.com/assets/colab-badge.svg\" alt=\"Open In Colab\"/></a>"
      ]
    },
    {
      "cell_type": "markdown",
      "source": [
        "# Veracidade de um triângulo"
      ],
      "metadata": {
        "id": "pRXeMHpBUUqd"
      }
    },
    {
      "cell_type": "code",
      "execution_count": null,
      "metadata": {
        "id": "o7Jewe1TUERo"
      },
      "outputs": [],
      "source": [
        "a = float(input(\"Digite o valor do lado A: \"))\n",
        "b = float(input(\"Digite o valor do lado B: \"))\n",
        "c = float(input(\"Digite o valor do lado C: \"))\n",
        "\n",
        "triangulo = a + b > c and b + c > a and a + c > b\n",
        "print(triangulo)"
      ]
    },
    {
      "cell_type": "markdown",
      "source": [
        "# Tipo do triângulo"
      ],
      "metadata": {
        "id": "9S2bw4opVtyZ"
      }
    },
    {
      "cell_type": "code",
      "source": [
        "(a == b == c) and triangulo\n",
        "print(\"Seu triângulo é equilátero? \", (a == b == c))\n",
        "print(\"Seu triângulo é isósceles? \", (a == b != c) or (a == c != b) or (b == c != a))\n",
        "print(\"Seu triângulo é escaleno? \", (a != b != c))"
      ],
      "metadata": {
        "id": "YDLLRR10V1GZ"
      },
      "execution_count": null,
      "outputs": []
    },
    {
      "cell_type": "markdown",
      "source": [
        "# Veracidade do triângulo (sem IA)"
      ],
      "metadata": {
        "id": "i7sZ-oIYWoJE"
      }
    },
    {
      "cell_type": "code",
      "source": [
        "a = float(input(\"Digite o valor do lado a: \"))\n",
        "b = float(input(\"Digite o valor do lado b: \"))\n",
        "c = float(input(\"Digite o valoor do lado c: \"))\n",
        "\n"
      ],
      "metadata": {
        "id": "4LHQL1j0XBLQ"
      },
      "execution_count": null,
      "outputs": []
    },
    {
      "cell_type": "code",
      "source": [
        "triângulo = a + b > c and b + c > a and a + c > b\n",
        "\n",
        "print(\"Seu triângulo existe? \",triângulo)"
      ],
      "metadata": {
        "colab": {
          "base_uri": "https://localhost:8080/"
        },
        "id": "6VOUKp0xYVr8",
        "outputId": "030075cd-e2bd-4144-c05d-e9977476a5bc"
      },
      "execution_count": null,
      "outputs": [
        {
          "output_type": "stream",
          "name": "stdout",
          "text": [
            "Seu triângulo existe?  True\n"
          ]
        }
      ]
    },
    {
      "cell_type": "markdown",
      "source": [
        "# Triângulo Equilátero (sem IA)"
      ],
      "metadata": {
        "id": "SRPDJEoOYd3C"
      }
    },
    {
      "cell_type": "code",
      "source": [
        "print(\"Seu triângulo é equilátero? \", (a == b == c))"
      ],
      "metadata": {
        "id": "21pqSnLBZRK7"
      },
      "execution_count": null,
      "outputs": []
    },
    {
      "cell_type": "markdown",
      "source": [
        "# Triângulo Escaleno (sem IA)"
      ],
      "metadata": {
        "id": "UesqOXaAZizr"
      }
    }
  ]
}