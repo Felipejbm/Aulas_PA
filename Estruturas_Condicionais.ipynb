{
  "nbformat": 4,
  "nbformat_minor": 0,
  "metadata": {
    "colab": {
      "provenance": [],
      "authorship_tag": "ABX9TyNiaNAooHkuBIHertui2eNC",
      "include_colab_link": true
    },
    "kernelspec": {
      "name": "python3",
      "display_name": "Python 3"
    },
    "language_info": {
      "name": "python"
    }
  },
  "cells": [
    {
      "cell_type": "markdown",
      "metadata": {
        "id": "view-in-github",
        "colab_type": "text"
      },
      "source": [
        "<a href=\"https://colab.research.google.com/github/Felipejbm/Aulas_PA/blob/main/Estruturas_Condicionais.ipynb\" target=\"_parent\"><img src=\"https://colab.research.google.com/assets/colab-badge.svg\" alt=\"Open In Colab\"/></a>"
      ]
    },
    {
      "cell_type": "markdown",
      "source": [
        "# ***NOTAS PARA MÉDIA***"
      ],
      "metadata": {
        "id": "0ALhuOqBcJE1"
      }
    },
    {
      "cell_type": "code",
      "execution_count": 22,
      "metadata": {
        "colab": {
          "base_uri": "https://localhost:8080/"
        },
        "id": "eDojgYyFZzZq",
        "outputId": "eea85c5f-e669-4f22-ad84-6ef1e0b11459"
      },
      "outputs": [
        {
          "name": "stdout",
          "output_type": "stream",
          "text": [
            "Digite a nota 1: 4.5\n",
            "Digite a nota 2: 4.5\n",
            "Digite a nota 3: 4.5\n"
          ]
        }
      ],
      "source": [
        "n1 = float(input(\"Digite a nota 1: \"))\n",
        "n2 = float(input(\"Digite a nota 2: \"))\n",
        "n3 = float(input(\"Digite a nota 3: \"))"
      ]
    },
    {
      "cell_type": "code",
      "source": [
        "media = (n1 + n2 + n3) / 3\n",
        "print(media)"
      ],
      "metadata": {
        "colab": {
          "base_uri": "https://localhost:8080/"
        },
        "id": "Ecla7TmycIXo",
        "outputId": "da806cc5-c8ac-4d2a-e43d-42b9304cc675"
      },
      "execution_count": 23,
      "outputs": [
        {
          "output_type": "stream",
          "name": "stdout",
          "text": [
            "4.5\n"
          ]
        }
      ]
    },
    {
      "cell_type": "markdown",
      "source": [
        "# ***PASSOU DE ANO?***"
      ],
      "metadata": {
        "id": "LCyXjqgCc3Q4"
      }
    },
    {
      "cell_type": "code",
      "source": [
        "if media >= 5:\n",
        "  print(\"Passou de ano!\")\n",
        "else:\n",
        "  if media < 4:\n",
        "    print(\"Não passou de ano!\")\n",
        "  else:\n",
        "    print(\"Recuperação\")\n",
        "\n",
        "print(\"\\nFim!\")\n",
        "\n",
        ""
      ],
      "metadata": {
        "colab": {
          "base_uri": "https://localhost:8080/"
        },
        "id": "Uo1qcpFKc6DV",
        "outputId": "1e2481f4-c719-439f-da27-4a476e42f0d8"
      },
      "execution_count": 30,
      "outputs": [
        {
          "output_type": "stream",
          "name": "stdout",
          "text": [
            "Recuperação\n",
            "\n",
            "Fim!\n"
          ]
        }
      ]
    }
  ]
}