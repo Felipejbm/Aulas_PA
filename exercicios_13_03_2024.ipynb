{
  "nbformat": 4,
  "nbformat_minor": 0,
  "metadata": {
    "colab": {
      "provenance": [],
      "collapsed_sections": [
        "vU0jqpN5d6bz",
        "iPe4xxVhd8QJ",
        "QDLuSvr7eATd",
        "WDlvN9-7eCrc"
      ],
      "authorship_tag": "ABX9TyOdtaSNOxIIKSaulgjli1IU",
      "include_colab_link": true
    },
    "kernelspec": {
      "name": "python3",
      "display_name": "Python 3"
    },
    "language_info": {
      "name": "python"
    }
  },
  "cells": [
    {
      "cell_type": "markdown",
      "metadata": {
        "id": "view-in-github",
        "colab_type": "text"
      },
      "source": [
        "<a href=\"https://colab.research.google.com/github/Felipejbm/Aulas_PA/blob/main/exercicios_13_03_2024.ipynb\" target=\"_parent\"><img src=\"https://colab.research.google.com/assets/colab-badge.svg\" alt=\"Open In Colab\"/></a>"
      ]
    },
    {
      "cell_type": "markdown",
      "source": [
        "# EXERCÍCIO 1"
      ],
      "metadata": {
        "id": "OryUj7Afd0el"
      }
    },
    {
      "cell_type": "code",
      "execution_count": null,
      "metadata": {
        "id": "odBF7bd_P03h"
      },
      "outputs": [],
      "source": [
        "valor = float(input(\"Digite o valor de cada peça: $ \"))\n",
        "qtde = float(input(\"Digite a quantidade de peças: \"))\n",
        "vt = qtde * valor\n",
        "print(\"O valor total é de: $ \",vt)\n"
      ]
    },
    {
      "cell_type": "markdown",
      "source": [
        "# EXERCÍCIO 2"
      ],
      "metadata": {
        "id": "vU0jqpN5d6bz"
      }
    },
    {
      "cell_type": "code",
      "source": [
        "# CALCULAR O ESTOQUE MÉDIO DE UMA PEÇA\n",
        "qntmin = 200\n",
        "qntmax = 500\n",
        "stqmed = (qntmin * qntmax) /2\n",
        "print(stqmed)"
      ],
      "metadata": {
        "colab": {
          "base_uri": "https://localhost:8080/"
        },
        "id": "2FjEeGTQRxQG",
        "outputId": "e6eb9663-9550-4528-9e5c-62b07cc907fa"
      },
      "execution_count": null,
      "outputs": [
        {
          "output_type": "stream",
          "name": "stdout",
          "text": [
            "50000.0\n"
          ]
        }
      ]
    },
    {
      "cell_type": "markdown",
      "source": [
        "# EXERCÍCIO 3"
      ],
      "metadata": {
        "id": "iPe4xxVhd8QJ"
      }
    },
    {
      "cell_type": "code",
      "source": [
        "dol = float(input(\"Digite a cotação do dolar: \"))\n",
        "din = float(input(\"Digite o seu valor em reais: \"))\n",
        "real = dol * din\n",
        "print(\"Seu valor em reais é de: $\",real)"
      ],
      "metadata": {
        "id": "T-QitZRpaJNZ"
      },
      "execution_count": null,
      "outputs": []
    },
    {
      "cell_type": "markdown",
      "source": [
        "# EXERCÍCIO 4"
      ],
      "metadata": {
        "id": "QDLuSvr7eATd"
      }
    },
    {
      "cell_type": "code",
      "source": [
        "n1 = float(input(\"Digite o primeiro número \"))\n",
        "n2= float(input(\"Digite o segundo número \"))\n",
        "n3 = float(input(\"Digite o terceiro número \"))\n",
        "n4 = float(input(\"Digite o quarto número \"))\n",
        "x = (n1*n1) + (n2*n2) + (n3*n3) + (n4*n4)\n",
        "print(\"Seu valor é de: \",x)"
      ],
      "metadata": {
        "id": "LeFu93ura8_B"
      },
      "execution_count": null,
      "outputs": []
    },
    {
      "cell_type": "markdown",
      "source": [
        "# EXERCÍCIO 5"
      ],
      "metadata": {
        "id": "WDlvN9-7eCrc"
      }
    },
    {
      "cell_type": "code",
      "source": [
        "qpeca = float(input(\"Digite a quantidade de peças vendidas: \"))\n",
        "val = float(input(\"Digite o valor de cada peça: \"))\n",
        "comissao = (qpeca * val)\n",
        "total = comissao * 0.05\n",
        "print(\"Seu valor total é de: \",total)"
      ],
      "metadata": {
        "colab": {
          "base_uri": "https://localhost:8080/"
        },
        "id": "AZKJW0IEcSEW",
        "outputId": "ef0762a2-1e21-4fdb-a55a-e692876da700"
      },
      "execution_count": null,
      "outputs": [
        {
          "output_type": "stream",
          "name": "stdout",
          "text": [
            "Digite a quantidade de peças vendidas: 200\n",
            "Digite o valor de cada peça: 2.5\n",
            "Seu valor total é de:  25.0\n"
          ]
        }
      ]
    },
    {
      "cell_type": "markdown",
      "source": [
        "# EXERCÍCIO 6"
      ],
      "metadata": {
        "id": "z1aDq2rPejYx"
      }
    },
    {
      "cell_type": "code",
      "source": [
        "custo = float(input(\"Digite o valor de fábrica do carro: \"))\n",
        "impo = custo * 0.45\n",
        "impo2 = impo + custo\n",
        "dist = impo2 * 0.28\n",
        "dist2 = dist + impo2\n",
        "print(\"O valor final do carro é de: $\",dist2)\n",
        "\n"
      ],
      "metadata": {
        "colab": {
          "base_uri": "https://localhost:8080/"
        },
        "id": "TcUZzYN0elTM",
        "outputId": "085eee2d-6327-415c-dc26-b15118b0df9d"
      },
      "execution_count": 3,
      "outputs": [
        {
          "output_type": "stream",
          "name": "stdout",
          "text": [
            "Digite o valor de fábrica do carro: 25000\n",
            "O valor final do carro é de: $ 46400.0\n"
          ]
        }
      ]
    },
    {
      "cell_type": "markdown",
      "source": [
        "# EXERCÍCIO 7"
      ],
      "metadata": {
        "id": "bKKgTDT_Ivct"
      }
    },
    {
      "cell_type": "code",
      "source": [
        "h = float(input(\"Digite as horas \"))\n",
        "m = float(input(\"Digite os minutos \"))\n",
        "n = h + (m/60)\n",
        "print(round(n,2))"
      ],
      "metadata": {
        "colab": {
          "base_uri": "https://localhost:8080/"
        },
        "id": "Ow0KD-VXK2Zg",
        "outputId": "9e187d15-58c7-4647-ea3a-8c821cabf561"
      },
      "execution_count": 5,
      "outputs": [
        {
          "output_type": "stream",
          "name": "stdout",
          "text": [
            "Digite as horas 4\n",
            "Digite os minutos 23\n",
            "4.38\n"
          ]
        }
      ]
    },
    {
      "cell_type": "markdown",
      "source": [
        "# EXERCÍCIO 8"
      ],
      "metadata": {
        "id": "550thg5uLfzL"
      }
    },
    {
      "cell_type": "code",
      "source": [
        "h = float(input(\"Digite as horas trabalhadas: \"))\n",
        "m = float(input(\"Digite os minutos trabalhados: \"))\n",
        "h2 = h + (m/60)\n",
        "ganho = float(input(\"Digite o valor ganho por hora: \"))\n",
        "total = h2 * ganho\n",
        "total2 = total * 1.7\n",
        "print(\"O seu salário é de\",total2,\"reais\")\n"
      ],
      "metadata": {
        "colab": {
          "base_uri": "https://localhost:8080/"
        },
        "id": "MFFPXV4WLfY-",
        "outputId": "80267904-bff4-462a-9e1f-834758a54786"
      },
      "execution_count": 11,
      "outputs": [
        {
          "output_type": "stream",
          "name": "stdout",
          "text": [
            "Digite as horas trabalhadas: 15\n",
            "Digite os minutos trabalhados: 45\n",
            "Digite o valor ganho por hora: 25\n",
            "O seu salário é de 669.375 reais\n"
          ]
        }
      ]
    },
    {
      "cell_type": "markdown",
      "source": [
        "# EXERCÍCIO 9"
      ],
      "metadata": {
        "id": "zvJ5eI7zNT0W"
      }
    },
    {
      "cell_type": "code",
      "source": [
        "km = float(input(\"Digite os quilômetros percorridos: \"))\n",
        "gaso = float(input(\"Digite quanto seu carro consome de gasolina por litro: \"))\n",
        "preco_gas = float(input(\"Digite o valor médio da gasolina: \"))\n",
        "x = (km/gaso) * preco_gas\n",
        "print(\"O valor gasto nesta viagem em gasolina foi de\",round(x),\"reais\")"
      ],
      "metadata": {
        "colab": {
          "base_uri": "https://localhost:8080/"
        },
        "id": "yhKdbomANX4B",
        "outputId": "9c30b6b1-931f-4c70-98f7-2848fb024be4"
      },
      "execution_count": 15,
      "outputs": [
        {
          "output_type": "stream",
          "name": "stdout",
          "text": [
            "Digite os quilômetros percorridos: 450\n",
            "Digite quanto seu carro consome de gasolina por litro: 10\n",
            "Digite o valor médio da gasolina: 4.5\n",
            "O valor gasto nesta viagem em gasolina foi de 202 reais\n"
          ]
        }
      ]
    },
    {
      "cell_type": "markdown",
      "source": [
        "# EXERCÍCIO 10"
      ],
      "metadata": {
        "id": "Bh3jnJ6dO3Vi"
      }
    },
    {
      "cell_type": "code",
      "source": [],
      "metadata": {
        "id": "Bz5E78jnO6A9"
      },
      "execution_count": null,
      "outputs": []
    }
  ]
}